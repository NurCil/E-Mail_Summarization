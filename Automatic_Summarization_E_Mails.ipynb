{
  "nbformat": 4,
  "nbformat_minor": 0,
  "metadata": {
    "colab": {
      "name": "Automatic_Summarization_E-Mails",
      "provenance": [],
      "collapsed_sections": [],
      "toc_visible": true,
      "machine_shape": "hm"
    },
    "kernelspec": {
      "name": "python3",
      "display_name": "Python 3"
    },
    "accelerator": "GPU"
  },
  "cells": [
    {
      "cell_type": "markdown",
      "metadata": {
        "id": "i7CARM9rE-SK"
      },
      "source": [
        "# **Requirements**\n",
        "\n",
        "\n",
        "\n",
        "\n",
        "\n"
      ]
    },
    {
      "cell_type": "code",
      "metadata": {
        "id": "HvNbvnd_xG49",
        "outputId": "e4aee53e-1f04-41f6-a7aa-4114a58dd052",
        "colab": {
          "base_uri": "https://localhost:8080/",
          "height": 102
        }
      },
      "source": [
        "!sudo apt install python3.5"
      ],
      "execution_count": null,
      "outputs": [
        {
          "output_type": "stream",
          "text": [
            "Reading package lists... Done\n",
            "Building dependency tree       \n",
            "Reading state information... Done\n",
            "Note, selecting 'libpython3.5-minimal' for regex 'python3.5'\n",
            "0 upgraded, 0 newly installed, 0 to remove and 11 not upgraded.\n"
          ],
          "name": "stdout"
        }
      ]
    },
    {
      "cell_type": "code",
      "metadata": {
        "id": "3pe40krXvH7s",
        "outputId": "b8d92efe-1d19-48dc-b4e1-016b6f247ec1",
        "colab": {
          "base_uri": "https://localhost:8080/",
          "height": 816
        }
      },
      "source": [
        "!sudo pip3 install sumy\n",
        "!sudo pip3 install git+git://github.com/miso-belica/sumy.git"
      ],
      "execution_count": null,
      "outputs": [
        {
          "output_type": "stream",
          "text": [
            "Collecting sumy\n",
            "\u001b[?25l  Downloading https://files.pythonhosted.org/packages/61/20/8abf92617ec80a2ebaec8dc1646a790fc9656a4a4377ddb9f0cc90bc9326/sumy-0.8.1-py2.py3-none-any.whl (83kB)\n",
            "\u001b[K     |████████████████████████████████| 92kB 2.4MB/s \n",
            "\u001b[?25hCollecting pycountry>=18.2.23\n",
            "\u001b[?25l  Downloading https://files.pythonhosted.org/packages/76/73/6f1a412f14f68c273feea29a6ea9b9f1e268177d32e0e69ad6790d306312/pycountry-20.7.3.tar.gz (10.1MB)\n",
            "\u001b[K     |████████████████████████████████| 10.1MB 8.2MB/s \n",
            "\u001b[?25hRequirement already satisfied: docopt<0.7,>=0.6.1 in /usr/local/lib/python3.6/dist-packages (from sumy) (0.6.2)\n",
            "Collecting breadability>=0.1.20\n",
            "  Downloading https://files.pythonhosted.org/packages/ad/2d/bb6c9b381e6b6a432aa2ffa8f4afdb2204f1ff97cfcc0766a5b7683fec43/breadability-0.1.20.tar.gz\n",
            "Requirement already satisfied: nltk>=3.0.2 in /usr/local/lib/python3.6/dist-packages (from sumy) (3.2.5)\n",
            "Requirement already satisfied: requests>=2.7.0 in /usr/local/lib/python3.6/dist-packages (from sumy) (2.23.0)\n",
            "Requirement already satisfied: chardet in /usr/local/lib/python3.6/dist-packages (from breadability>=0.1.20->sumy) (3.0.4)\n",
            "Requirement already satisfied: lxml>=2.0 in /usr/local/lib/python3.6/dist-packages (from breadability>=0.1.20->sumy) (4.2.6)\n",
            "Requirement already satisfied: six in /usr/local/lib/python3.6/dist-packages (from nltk>=3.0.2->sumy) (1.15.0)\n",
            "Requirement already satisfied: certifi>=2017.4.17 in /usr/local/lib/python3.6/dist-packages (from requests>=2.7.0->sumy) (2020.6.20)\n",
            "Requirement already satisfied: idna<3,>=2.5 in /usr/local/lib/python3.6/dist-packages (from requests>=2.7.0->sumy) (2.10)\n",
            "Requirement already satisfied: urllib3!=1.25.0,!=1.25.1,<1.26,>=1.21.1 in /usr/local/lib/python3.6/dist-packages (from requests>=2.7.0->sumy) (1.24.3)\n",
            "Building wheels for collected packages: pycountry, breadability\n",
            "  Building wheel for pycountry (setup.py) ... \u001b[?25l\u001b[?25hdone\n",
            "  Created wheel for pycountry: filename=pycountry-20.7.3-py2.py3-none-any.whl size=10746865 sha256=6a166b4306bf36c1dff9179731443481c91a88de13191e6cb79c08050b2b1b47\n",
            "  Stored in directory: /root/.cache/pip/wheels/33/4e/a6/be297e6b83567e537bed9df4a93f8590ec01c1acfbcd405348\n",
            "  Building wheel for breadability (setup.py) ... \u001b[?25l\u001b[?25hdone\n",
            "  Created wheel for breadability: filename=breadability-0.1.20-py2.py3-none-any.whl size=21681 sha256=b8866424c5e62f404687b95d15430b7c8a94503bb3c48173257eded045112142\n",
            "  Stored in directory: /root/.cache/pip/wheels/5a/4d/a1/510b12c5e65e0b2b3ce539b2af66da0fc57571e528924f4a52\n",
            "Successfully built pycountry breadability\n",
            "Installing collected packages: pycountry, breadability, sumy\n",
            "Successfully installed breadability-0.1.20 pycountry-20.7.3 sumy-0.8.1\n",
            "Collecting git+git://github.com/miso-belica/sumy.git\n",
            "  Cloning git://github.com/miso-belica/sumy.git to /tmp/pip-req-build-ns27yfvp\n",
            "  Running command git clone -q git://github.com/miso-belica/sumy.git /tmp/pip-req-build-ns27yfvp\n",
            "Requirement already satisfied (use --upgrade to upgrade): sumy==0.8.1 from git+git://github.com/miso-belica/sumy.git in /usr/local/lib/python3.6/dist-packages\n",
            "Requirement already satisfied: docopt<0.7,>=0.6.1 in /usr/local/lib/python3.6/dist-packages (from sumy==0.8.1) (0.6.2)\n",
            "Requirement already satisfied: breadability>=0.1.20 in /usr/local/lib/python3.6/dist-packages (from sumy==0.8.1) (0.1.20)\n",
            "Requirement already satisfied: requests>=2.7.0 in /usr/local/lib/python3.6/dist-packages (from sumy==0.8.1) (2.23.0)\n",
            "Requirement already satisfied: pycountry>=18.2.23 in /usr/local/lib/python3.6/dist-packages (from sumy==0.8.1) (20.7.3)\n",
            "Requirement already satisfied: nltk>=3.0.2 in /usr/local/lib/python3.6/dist-packages (from sumy==0.8.1) (3.2.5)\n",
            "Requirement already satisfied: chardet in /usr/local/lib/python3.6/dist-packages (from breadability>=0.1.20->sumy==0.8.1) (3.0.4)\n",
            "Requirement already satisfied: lxml>=2.0 in /usr/local/lib/python3.6/dist-packages (from breadability>=0.1.20->sumy==0.8.1) (4.2.6)\n",
            "Requirement already satisfied: idna<3,>=2.5 in /usr/local/lib/python3.6/dist-packages (from requests>=2.7.0->sumy==0.8.1) (2.10)\n",
            "Requirement already satisfied: urllib3!=1.25.0,!=1.25.1,<1.26,>=1.21.1 in /usr/local/lib/python3.6/dist-packages (from requests>=2.7.0->sumy==0.8.1) (1.24.3)\n",
            "Requirement already satisfied: certifi>=2017.4.17 in /usr/local/lib/python3.6/dist-packages (from requests>=2.7.0->sumy==0.8.1) (2020.6.20)\n",
            "Requirement already satisfied: six in /usr/local/lib/python3.6/dist-packages (from nltk>=3.0.2->sumy==0.8.1) (1.15.0)\n",
            "Building wheels for collected packages: sumy\n",
            "  Building wheel for sumy (setup.py) ... \u001b[?25l\u001b[?25hdone\n",
            "  Created wheel for sumy: filename=sumy-0.8.1-py2.py3-none-any.whl size=87932 sha256=a7bab2d69ed77e82161d8e59f2a53d43c2edd1af66d0af9d2fad1b06e2ad2e7b\n",
            "  Stored in directory: /tmp/pip-ephem-wheel-cache-h6nsnpkz/wheels/ca/d7/7c/6e918e8342b863a32773e60f127b2714872821e5604936c0ea\n",
            "Successfully built sumy\n"
          ],
          "name": "stdout"
        }
      ]
    },
    {
      "cell_type": "code",
      "metadata": {
        "id": "fd9aEqTuwMs4",
        "outputId": "eaebc8b5-7835-4679-e662-5c1e6b9fac39",
        "colab": {
          "base_uri": "https://localhost:8080/",
          "height": 51
        }
      },
      "source": [
        "!python3 -c \"import nltk; nltk.download('punkt')\""
      ],
      "execution_count": null,
      "outputs": [
        {
          "output_type": "stream",
          "text": [
            "[nltk_data] Downloading package punkt to /root/nltk_data...\n",
            "[nltk_data]   Unzipping tokenizers/punkt.zip.\n"
          ],
          "name": "stdout"
        }
      ]
    },
    {
      "cell_type": "code",
      "metadata": {
        "id": "1demwW2yccMZ",
        "outputId": "64b86ed4-1246-4443-d8e3-91a2d5fc9887",
        "colab": {
          "base_uri": "https://localhost:8080/",
          "height": 442
        }
      },
      "source": [
        "!pip3 install talon"
      ],
      "execution_count": null,
      "outputs": [
        {
          "output_type": "stream",
          "text": [
            "Collecting talon\n",
            "\u001b[?25l  Downloading https://files.pythonhosted.org/packages/eb/f7/3348324b489f74500054a1a1ea18b86cc40d19994f789311228c12a6bcc7/talon-1.4.4.tar.gz (62kB)\n",
            "\u001b[K     |████████████████████████████████| 71kB 2.1MB/s \n",
            "\u001b[?25hRequirement already satisfied: lxml>=2.3.3 in /usr/local/lib/python3.6/dist-packages (from talon) (4.2.6)\n",
            "Requirement already satisfied: regex>=1 in /usr/local/lib/python3.6/dist-packages (from talon) (2019.12.20)\n",
            "Requirement already satisfied: numpy in /usr/local/lib/python3.6/dist-packages (from talon) (1.18.5)\n",
            "Requirement already satisfied: scipy in /usr/local/lib/python3.6/dist-packages (from talon) (1.4.1)\n",
            "Requirement already satisfied: scikit-learn>=0.16.1 in /usr/local/lib/python3.6/dist-packages (from talon) (0.22.2.post1)\n",
            "Requirement already satisfied: chardet>=1.0.1 in /usr/local/lib/python3.6/dist-packages (from talon) (3.0.4)\n",
            "Collecting cchardet>=0.3.5\n",
            "\u001b[?25l  Downloading https://files.pythonhosted.org/packages/a0/e5/a0b9edd8664ea3b0d3270c451ebbf86655ed9fc4c3e4c45b9afae9c2e382/cchardet-2.1.7-cp36-cp36m-manylinux2010_x86_64.whl (263kB)\n",
            "\u001b[K     |████████████████████████████████| 266kB 7.3MB/s \n",
            "\u001b[?25hCollecting cssselect\n",
            "  Downloading https://files.pythonhosted.org/packages/3b/d4/3b5c17f00cce85b9a1e6f91096e1cc8e8ede2e1be8e96b87ce1ed09e92c5/cssselect-1.1.0-py2.py3-none-any.whl\n",
            "Requirement already satisfied: six>=1.10.0 in /usr/local/lib/python3.6/dist-packages (from talon) (1.15.0)\n",
            "Requirement already satisfied: html5lib in /usr/local/lib/python3.6/dist-packages (from talon) (1.0.1)\n",
            "Requirement already satisfied: joblib>=0.11 in /usr/local/lib/python3.6/dist-packages (from scikit-learn>=0.16.1->talon) (0.17.0)\n",
            "Requirement already satisfied: webencodings in /usr/local/lib/python3.6/dist-packages (from html5lib->talon) (0.5.1)\n",
            "Building wheels for collected packages: talon\n",
            "  Building wheel for talon (setup.py) ... \u001b[?25l\u001b[?25hdone\n",
            "  Created wheel for talon: filename=talon-1.4.4-cp36-none-any.whl size=35287 sha256=98f6c116f977ccc998420401c9201dc791902fc58016697637a3560bcfb9e40a\n",
            "  Stored in directory: /root/.cache/pip/wheels/3f/ca/f9/748f5328839c03fe055f69110357b4718853dde8d872896209\n",
            "Successfully built talon\n",
            "Installing collected packages: cchardet, cssselect, talon\n",
            "Successfully installed cchardet-2.1.7 cssselect-1.1.0 talon-1.4.4\n"
          ],
          "name": "stdout"
        }
      ]
    },
    {
      "cell_type": "markdown",
      "metadata": {
        "id": "BAsTH-vZFwRG"
      },
      "source": [
        "# **Dataset**\n",
        "\n",
        "\n",
        "*   The path of the datasetfile (txt-file of e-mails). --> optional\n",
        " \n",
        "\n",
        "\n"
      ]
    },
    {
      "cell_type": "code",
      "metadata": {
        "id": "11gp_xOAs7Kb",
        "outputId": "28de01ba-6570-4319-f653-46f0d03e1a35",
        "colab": {
          "base_uri": "https://localhost:8080/",
          "height": 34
        }
      },
      "source": [
        "from google.colab import drive\n",
        "drive.mount('/content/drive')"
      ],
      "execution_count": null,
      "outputs": [
        {
          "output_type": "stream",
          "text": [
            "Drive already mounted at /content/drive; to attempt to forcibly remount, call drive.mount(\"/content/drive\", force_remount=True).\n"
          ],
          "name": "stdout"
        }
      ]
    },
    {
      "cell_type": "markdown",
      "metadata": {
        "id": "axrRRZ1hM18A"
      },
      "source": [
        "# **E-Mail-Summarization**\n",
        "\n",
        "\n",
        "*   Modification of preprocessing-part of the Python-file email_summarization.py (Chauhan, 2018) from https://github.com/jatana-research/email-summarization\n",
        "*   Using the 'Automatic Text Summarizer' from https://github.com/miso-belica/sumy\n",
        "\n",
        "\n"
      ]
    },
    {
      "cell_type": "markdown",
      "metadata": {
        "id": "6FXRNBfplTgv"
      },
      "source": [
        "**Input**"
      ]
    },
    {
      "cell_type": "code",
      "metadata": {
        "id": "iU0HsDceqMVp"
      },
      "source": [
        "email_1 = '''\n",
        "Hi Nicole,\n",
        "\n",
        "Thank you for keeping me updated on this issue. I'm happy to hear that the issue got resolved after all. \n",
        "You can now use the app in its full functionality again. \n",
        "Also many thanks for your suggestions. We hope to improve this feature in the future. \n",
        "\n",
        "In case you experience any further problems with the app, please don't hesitate to contact me again.\n",
        "\n",
        "Best regards,\n",
        "\n",
        "John D.\n",
        "Customer Support\n",
        "\n",
        "0000 Sunshine Parkway\n",
        "Mountain View, CA\n",
        "United States'''\n",
        "\n",
        "email_2 = '''\n",
        "Dear Jennifer,\n",
        "\n",
        "Thanks for the advertisement you sent me about the Fashion Show. I think it will be a fantastic event and I want to be there, but before I come to Paris I need to know a little more about train timetables and the show. Could you give me more information?\n",
        "I’m trying to decide which train to take. I think the best option is to take the last one from Berlin, but it doesn’t arrive in Paris until about ten o’clock. Will that be OK, or is it too late for you?\n",
        "I’ve never been to a fashion show before. I’ve never been to Paris, either, so I need your advice. What kind of clothes do you think I should wear? And what’s the weather like at the moment? Is it warm or rather cold? Do I need to bring some warm clothes? What about rain? What are the weather forecasts? Do they say it is going to rain within the next 2 days or not? I don’t know if I am able to pack into my bag, it isn’t too big. Maybe I will take 2 of them.\n",
        "By the way, what shall we do on Sunday? How about going for a walk in the park, or going on a river cruise? Or maybe you’ve got some other, better ideas? Tell me if something comes to your mind.\n",
        "Anyway, I can’t wait to see you. I’m looking forward to hearing from you. Answer me as soon as it’s possible.\n",
        "\n",
        "Cheers,\n",
        "Meghan''' \n",
        "\n",
        "email_3 = '''\n",
        "Hello Michael,\n",
        "\n",
        "Thank you for your e mail I received a week ago. I’m sorry that I didn’t reply to your letter sooner, but I’m spending my time now in a summer house where Internet connection is very weak.\n",
        "Anyway, it’s a great place to relax and take a break after a hard year in our school.\n",
        "I don’t watch TV here nor do I use a mobile phone or a computer, so I have much more time than on my hands than I do usually. I feel healthier and I’m tanned. I swim a lot in a local lake, ride a bike and play football with local people. I’ve made many new friends.\n",
        "I wish you were here. Would you like to come along the next year? I bet you’ll be satisfied.\n",
        "Answer me.\n",
        "\n",
        "Thanks, \n",
        "P. G.'''\n"
      ],
      "execution_count": null,
      "outputs": []
    },
    {
      "cell_type": "markdown",
      "metadata": {
        "id": "fr_WcM8zllXI"
      },
      "source": [
        "**Preprocessing**"
      ]
    },
    {
      "cell_type": "code",
      "metadata": {
        "id": "xDnt53drq_fy"
      },
      "source": [
        "from talon.signature.bruteforce import extract_signature\n",
        "\n",
        "def preprocess(email):\n",
        "    \"\"\"\n",
        "    Performs preprocessing operations such as:\n",
        "        1. Removing salutation line.\n",
        "        2. Removing signature lines (only E-Mails in English are supported).\n",
        "        3. Removing new line characters.\n",
        "    \"\"\"\n",
        "    email, _ = extract_signature(email)\n",
        "    \n",
        "    lines = email.split('\\n')\n",
        "\n",
        "    for i in reversed(range(len(lines))):\n",
        "        lines[i] = lines[i].strip()\n",
        "        if lines[i] == '':\n",
        "          lines.pop(i)\n",
        "    email = '\\n'.join(lines)\n",
        "    email = extract_salutation(email)\n",
        "    return email\n",
        "\n",
        "def extract_salutation(email):\n",
        "\n",
        "    lines = email.split('\\n')\n",
        "\n",
        "    for i in reversed(range(len(lines))):\n",
        "        lines[i] = lines[i].strip()\n",
        "        s = ['Hi','Hello','Hey','Dear']\n",
        "        for j in range(len(s)):\n",
        "          if s[j] in lines[i]:\n",
        "            lines.pop(i)\n",
        "    email = '\\n'.join(lines)\n",
        "    return email\n"
      ],
      "execution_count": null,
      "outputs": []
    },
    {
      "cell_type": "markdown",
      "metadata": {
        "id": "KP2m8NhHmonp"
      },
      "source": [
        "**Process of Summarization**"
      ]
    },
    {
      "cell_type": "code",
      "metadata": {
        "id": "bXf_it-EUr8C"
      },
      "source": [
        "# -*- coding: utf-8 -*-\n",
        "\n",
        "from __future__ import absolute_import\n",
        "from __future__ import division, print_function, unicode_literals\n",
        "\n",
        "from sumy.parsers.plaintext import PlaintextParser\n",
        "from sumy.nlp.tokenizers import Tokenizer\n",
        "from sumy.summarizers.lsa import LsaSummarizer as Summarizer\n",
        "from sumy.nlp.stemmers import Stemmer\n",
        "from sumy.utils import get_stop_words\n",
        "\n",
        "def summarizing(message):\n",
        "  LANGUAGE = \"english\"\n",
        "  SENTENCES_COUNT = 3\n",
        "\n",
        "\n",
        "  if __name__ == \"__main__\":\n",
        "    #for plain text files there exists two possibilities as following\n",
        "    #parser = PlaintextParser.from_file(\"document.txt\", Tokenizer(LANGUAGE))\n",
        "    parser = PlaintextParser.from_string(message, Tokenizer(LANGUAGE))\n",
        "    stemmer = Stemmer(LANGUAGE)\n",
        "\n",
        "    summarizer = Summarizer(stemmer)\n",
        "    summarizer.stop_words = get_stop_words(LANGUAGE)\n",
        "\n",
        "    for sentence in summarizer(parser.document, SENTENCES_COUNT):\n",
        "        print(sentence)"
      ],
      "execution_count": null,
      "outputs": []
    },
    {
      "cell_type": "markdown",
      "metadata": {
        "id": "AAIeHXdUl2iu"
      },
      "source": [
        "**Output**"
      ]
    },
    {
      "cell_type": "code",
      "metadata": {
        "id": "VPuQJAP5nbpT",
        "outputId": "3f021d6a-b868-40d3-8f22-7ad6ea536a15",
        "colab": {
          "base_uri": "https://localhost:8080/",
          "height": 683
        }
      },
      "source": [
        "#Preprocessed E-Mails\n",
        "print(\"Message_1\")\n",
        "message_1 = preprocess(email_1)\n",
        "print (message_1)\n",
        "print(\" \")\n",
        "\n",
        "print(\"Message_2\")\n",
        "message_2 = preprocess(email_2)\n",
        "print (message_2)\n",
        "print(\" \")\n",
        "\n",
        "print(\"Message_3\")\n",
        "message_3 = preprocess(email_3)\n",
        "print (message_3)\n",
        "print(\" \")\n",
        "\n",
        "#Summarization of E-Mails\n",
        "print(\"Summary_1\")\n",
        "summary_1 = summarizing(message_1)\n",
        "print (summary_1)\n",
        "print(\" \")\n",
        "\n",
        "print(\"Summary_2\")\n",
        "summary_2 = summarizing(message_2)\n",
        "print (summary_2)\n",
        "print(\" \")\n",
        "\n",
        "print(\"Summary_3\")\n",
        "summary_3 = summarizing(message_3)\n",
        "print (summary_3)\n",
        "print(\" \")"
      ],
      "execution_count": null,
      "outputs": [
        {
          "output_type": "stream",
          "text": [
            "Message_1\n",
            "Thank you for keeping me updated on this issue. I'm happy to hear that the issue got resolved after all.\n",
            "You can now use the app in its full functionality again.\n",
            "Also many thanks for your suggestions. We hope to improve this feature in the future.\n",
            "In case you experience any further problems with the app, please don't hesitate to contact me again.\n",
            " \n",
            "Message_2\n",
            "Thanks for the advertisement you sent me about the Fashion Show. I think it will be a fantastic event and I want to be there, but before I come to Paris I need to know a little more about train timetables and the show. Could you give me more information?\n",
            "I’m trying to decide which train to take. I think the best option is to take the last one from Berlin, but it doesn’t arrive in Paris until about ten o’clock. Will that be OK, or is it too late for you?\n",
            "I’ve never been to a fashion show before. I’ve never been to Paris, either, so I need your advice. What kind of clothes do you think I should wear? And what’s the weather like at the moment? Is it warm or rather cold? Do I need to bring some warm clothes? What about rain? What are the weather forecasts? Do they say it is going to rain within the next 2 days or not? I don’t know if I am able to pack into my bag, it isn’t too big. Maybe I will take 2 of them.\n",
            "By the way, what shall we do on Sunday? How about going for a walk in the park, or going on a river cruise? Or maybe you’ve got some other, better ideas? Tell me if something comes to your mind.\n",
            "Anyway, I can’t wait to see you. I’m looking forward to hearing from you. Answer me as soon as it’s possible.\n",
            " \n",
            "Message_3\n",
            "Thank you for your e mail I received a week ago. I’m sorry that I didn’t reply to your letter sooner, but I’m spending my time now in a summer house where Internet connection is very weak.\n",
            "Anyway, it’s a great place to relax and take a break after a hard year in our school.\n",
            "I don’t watch TV here nor do I use a mobile phone or a computer, so I have much more time than on my hands than I do usually. I feel healthier and I’m tanned. I swim a lot in a local lake, ride a bike and play football with local people. I’ve made many new friends.\n",
            "I wish you were here. Would you like to come along the next year? I bet you’ll be satisfied.\n",
            "Answer me.\n",
            " \n",
            "Summary_1\n",
            "I'm happy to hear that the issue got resolved after all.\n",
            "We hope to improve this feature in the future.\n",
            "In case you experience any further problems with the app, please don't hesitate to contact me again.\n",
            "None\n",
            " \n",
            "Summary_2\n",
            "I think it will be a fantastic event and I want to be there, but before I come to Paris I need to know a little more about train timetables and the show.\n",
            "I think the best option is to take the last one from Berlin, but it doesn’t arrive in Paris until about ten o’clock.\n",
            "I don’t know if I am able to pack into my bag, it isn’t too big.\n",
            "None\n",
            " \n",
            "Summary_3\n",
            "I’m sorry that I didn’t reply to your letter sooner, but I’m spending my time now in a summer house where Internet connection is very weak.\n",
            "Anyway, it’s a great place to relax and take a break after a hard year in our school.\n",
            "I don’t watch TV here nor do I use a mobile phone or a computer, so I have much more time than on my hands than I do usually.\n",
            "None\n",
            " \n"
          ],
          "name": "stdout"
        }
      ]
    }
  ]
}